{
 "cells": [
  {
   "cell_type": "code",
   "execution_count": 1,
   "id": "145acf8f-b750-4a34-a646-0a5ef52a195f",
   "metadata": {},
   "outputs": [],
   "source": [
    "import random\n",
    "\n",
    "word_bank = ['rizz', 'ohio', 'sigma', 'tiktok', 'skibidi']\n",
    "\n",
    "word = random.choice(word_bank)\n",
    "guessedWord = ['_'] * len(word)\n",
    "attempts = 10"
   ]
  },
  {
   "cell_type": "code",
   "execution_count": 3,
   "id": "0a1f01aa-edff-4311-bdc9-959a7163005b",
   "metadata": {},
   "outputs": [
    {
     "name": "stdout",
     "output_type": "stream",
     "text": [
      "\n",
      "Current word: _ _ _ _ _ _ _\n"
     ]
    },
    {
     "name": "stdin",
     "output_type": "stream",
     "text": [
      "Guess a letter:  i\n"
     ]
    },
    {
     "name": "stdout",
     "output_type": "stream",
     "text": [
      "Great guess!\n",
      "\n",
      "Current word: _ _ i _ i _ i\n"
     ]
    },
    {
     "name": "stdin",
     "output_type": "stream",
     "text": [
      "Guess a letter:  s\n"
     ]
    },
    {
     "name": "stdout",
     "output_type": "stream",
     "text": [
      "Great guess!\n",
      "\n",
      "Current word: s _ i _ i _ i\n"
     ]
    },
    {
     "name": "stdin",
     "output_type": "stream",
     "text": [
      "Guess a letter:  o\n"
     ]
    },
    {
     "name": "stdout",
     "output_type": "stream",
     "text": [
      "Wrong guess! Attempts left: 9\n",
      "\n",
      "Current word: s _ i _ i _ i\n"
     ]
    },
    {
     "name": "stdin",
     "output_type": "stream",
     "text": [
      "Guess a letter:  v\n"
     ]
    },
    {
     "name": "stdout",
     "output_type": "stream",
     "text": [
      "Wrong guess! Attempts left: 8\n",
      "\n",
      "Current word: s _ i _ i _ i\n"
     ]
    },
    {
     "name": "stdin",
     "output_type": "stream",
     "text": [
      "Guess a letter:  k\n"
     ]
    },
    {
     "name": "stdout",
     "output_type": "stream",
     "text": [
      "Great guess!\n",
      "\n",
      "Current word: s k i _ i _ i\n"
     ]
    },
    {
     "name": "stdin",
     "output_type": "stream",
     "text": [
      "Guess a letter:  c\n"
     ]
    },
    {
     "name": "stdout",
     "output_type": "stream",
     "text": [
      "Wrong guess! Attempts left: 7\n",
      "\n",
      "Current word: s k i _ i _ i\n"
     ]
    },
    {
     "name": "stdin",
     "output_type": "stream",
     "text": [
      "Guess a letter:  b\n"
     ]
    },
    {
     "name": "stdout",
     "output_type": "stream",
     "text": [
      "Great guess!\n",
      "\n",
      "Current word: s k i b i _ i\n"
     ]
    },
    {
     "name": "stdin",
     "output_type": "stream",
     "text": [
      "Guess a letter:  g\n"
     ]
    },
    {
     "name": "stdout",
     "output_type": "stream",
     "text": [
      "Wrong guess! Attempts left: 6\n",
      "\n",
      "Current word: s k i b i _ i\n"
     ]
    },
    {
     "name": "stdin",
     "output_type": "stream",
     "text": [
      "Guess a letter:  p\n"
     ]
    },
    {
     "name": "stdout",
     "output_type": "stream",
     "text": [
      "Wrong guess! Attempts left: 5\n",
      "\n",
      "Current word: s k i b i _ i\n"
     ]
    },
    {
     "name": "stdin",
     "output_type": "stream",
     "text": [
      "Guess a letter:  r\n"
     ]
    },
    {
     "name": "stdout",
     "output_type": "stream",
     "text": [
      "Wrong guess! Attempts left: 4\n",
      "\n",
      "Current word: s k i b i _ i\n"
     ]
    },
    {
     "name": "stdin",
     "output_type": "stream",
     "text": [
      "Guess a letter:  b\n"
     ]
    },
    {
     "name": "stdout",
     "output_type": "stream",
     "text": [
      "Great guess!\n",
      "\n",
      "Current word: s k i b i _ i\n"
     ]
    },
    {
     "name": "stdin",
     "output_type": "stream",
     "text": [
      "Guess a letter:  t\n"
     ]
    },
    {
     "name": "stdout",
     "output_type": "stream",
     "text": [
      "Wrong guess! Attempts left: 3\n",
      "\n",
      "Current word: s k i b i _ i\n"
     ]
    },
    {
     "name": "stdin",
     "output_type": "stream",
     "text": [
      "Guess a letter:  o\n"
     ]
    },
    {
     "name": "stdout",
     "output_type": "stream",
     "text": [
      "Wrong guess! Attempts left: 2\n",
      "\n",
      "Current word: s k i b i _ i\n"
     ]
    },
    {
     "name": "stdin",
     "output_type": "stream",
     "text": [
      "Guess a letter:  r\n"
     ]
    },
    {
     "name": "stdout",
     "output_type": "stream",
     "text": [
      "Wrong guess! Attempts left: 1\n",
      "\n",
      "Current word: s k i b i _ i\n"
     ]
    },
    {
     "name": "stdin",
     "output_type": "stream",
     "text": [
      "Guess a letter:  d\n"
     ]
    },
    {
     "name": "stdout",
     "output_type": "stream",
     "text": [
      "Great guess!\n",
      "\n",
      "Congratulations!! You guessed the word: skibidi\n"
     ]
    }
   ],
   "source": [
    "while attempts > 0:\n",
    "    print('\\nCurrent word: ' + ' '.join(guessedWord))\n",
    "\n",
    "    guess = input('Guess a letter: ').lower()\n",
    "\n",
    "    if guess in word:\n",
    "        for i in range(len(word)):\n",
    "            if word[i] == guess:\n",
    "                guessedWord[i] = guess\n",
    "        print('Great guess!')\n",
    "    else:\n",
    "        attempts -= 1\n",
    "        print('Wrong guess! Attempts left: ' + str(attempts))\n",
    "\n",
    "    if '_' not in guessedWord:\n",
    "        print('\\nCongratulations!! You guessed the word: ' + word)\n",
    "        break\n",
    "\n",
    "if attempts == 0:\n",
    "    print('\\nYou\\'ve run out of attempts! The word was: ' + word)"
   ]
  },
  {
   "cell_type": "code",
   "execution_count": null,
   "id": "8bac6dfc-91d9-49ff-bef8-5e7dc51a4180",
   "metadata": {},
   "outputs": [],
   "source": []
  }
 ],
 "metadata": {
  "kernelspec": {
   "display_name": "Python 3 (ipykernel)",
   "language": "python",
   "name": "python3"
  },
  "language_info": {
   "codemirror_mode": {
    "name": "ipython",
    "version": 3
   },
   "file_extension": ".py",
   "mimetype": "text/x-python",
   "name": "python",
   "nbconvert_exporter": "python",
   "pygments_lexer": "ipython3",
   "version": "3.12.4"
  }
 },
 "nbformat": 4,
 "nbformat_minor": 5
}
