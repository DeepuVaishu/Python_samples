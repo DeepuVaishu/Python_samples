{
 "cells": [
  {
   "cell_type": "code",
   "execution_count": null,
   "id": "75aa0359-8c73-487a-90b3-8efe3993fbbb",
   "metadata": {},
   "outputs": [],
   "source": [
    "# Exercise 10\n",
    "# Name your file: PoundsToDollars.py\n",
    "# Write a program that asks the user to enter an amount in pounds (£) and the program calculates and converts an amount in dollar ($)\n",
    "# An example runs of the program:\n",
    "# Please enter amount in pounds: XXX\n",
    "# £ XXX are $ XXX"
   ]
  },
  {
   "cell_type": "code",
   "execution_count": 1,
   "id": "ebc58ff0-2ccc-47d3-8950-75f26fc655c3",
   "metadata": {},
   "outputs": [
    {
     "name": "stdin",
     "output_type": "stream",
     "text": [
      "Please enter amount in pounds: £  35\n"
     ]
    },
    {
     "name": "stdout",
     "output_type": "stream",
     "text": [
      "£ 35.0 are $ 46.20\n"
     ]
    }
   ],
   "source": [
    "pounds = float(input(\"Please enter amount in pounds: £ \"))\n",
    "exchange_rate = 1.32 \n",
    "dollars = pounds * exchange_rate\n",
    "\n",
    "print(f\"£ {pounds} are $ {dollars:.2f}\") #:.2 means to display the value with 2 decimal places.f stands for floating-point number."
   ]
  },
  {
   "cell_type": "code",
   "execution_count": null,
   "id": "eecb2d32-2a9e-4442-abc2-d154b891acc9",
   "metadata": {},
   "outputs": [],
   "source": []
  }
 ],
 "metadata": {
  "kernelspec": {
   "display_name": "Python 3 (ipykernel)",
   "language": "python",
   "name": "python3"
  },
  "language_info": {
   "codemirror_mode": {
    "name": "ipython",
    "version": 3
   },
   "file_extension": ".py",
   "mimetype": "text/x-python",
   "name": "python",
   "nbconvert_exporter": "python",
   "pygments_lexer": "ipython3",
   "version": "3.12.4"
  }
 },
 "nbformat": 4,
 "nbformat_minor": 5
}
