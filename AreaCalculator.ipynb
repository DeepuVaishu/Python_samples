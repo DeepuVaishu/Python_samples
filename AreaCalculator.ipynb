{
 "cells": [
  {
   "cell_type": "code",
   "execution_count": 21,
   "id": "b60066e0-d8c0-4f25-9cec-8029cdec9896",
   "metadata": {},
   "outputs": [
    {
     "name": "stdout",
     "output_type": "stream",
     "text": [
      "Choose your Shape: \n",
      "1) Square\n",
      "2) rectangle\n",
      "3) Triangle\n",
      "4) Circle\n"
     ]
    },
    {
     "name": "stdin",
     "output_type": "stream",
     "text": [
      "Enter the number corresponding to your shape: 1\n",
      "Side:  6\n"
     ]
    },
    {
     "name": "stdout",
     "output_type": "stream",
     "text": [
      "The area is  36\n"
     ]
    }
   ],
   "source": [
    "print(\"Choose your Shape: \" )\n",
    "print(\"1) Square\")\n",
    "print(\"2) rectangle\")\n",
    "print(\"3) Triangle\")\n",
    "print(\"4) Circle\")\n",
    "\n",
    "a= int(input(\"Enter the number corresponding to your shape:\"))\n",
    "if a==1:\n",
    "  side=int(input(\"Side: \"))\n",
    "  area=side*side\n",
    "  print(\"The area is \",area)\n",
    "elif a==2:\n",
    "    length=int(input(\"length: \"))\n",
    "    breadth=int(input(\"breadth: \"))\n",
    "    area=length*breadth\n",
    "    print(\"the area is \",area)\n",
    "elif a==3:\n",
    "    height=int(input(\"height:\"))\n",
    "    base= int(input(\"base:\"))\n",
    "    area=(height*base)/2\n",
    "    print(\"The area is\",area)\n",
    "elif a==4:\n",
    "    radius=int(input(\"radius:\"))\n",
    "    area=3.14*radius*radius\n",
    "    print(\"the area is\",area)\n",
    "else:\n",
    "    print(\"Choose your number correctly\")"
   ]
  },
  {
   "cell_type": "code",
   "execution_count": null,
   "id": "9e6a1861-6e78-42ad-beb6-4c56d6a608fb",
   "metadata": {},
   "outputs": [],
   "source": []
  }
 ],
 "metadata": {
  "kernelspec": {
   "display_name": "Python 3 (ipykernel)",
   "language": "python",
   "name": "python3"
  },
  "language_info": {
   "codemirror_mode": {
    "name": "ipython",
    "version": 3
   },
   "file_extension": ".py",
   "mimetype": "text/x-python",
   "name": "python",
   "nbconvert_exporter": "python",
   "pygments_lexer": "ipython3",
   "version": "3.12.4"
  }
 },
 "nbformat": 4,
 "nbformat_minor": 5
}
